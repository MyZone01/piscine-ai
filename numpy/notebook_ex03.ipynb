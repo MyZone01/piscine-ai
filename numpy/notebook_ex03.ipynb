{
 "cells": [
  {
   "cell_type": "markdown",
   "metadata": {},
   "source": [
    "# Exercise 3: Slicing\n",
    "\n",
    "The goal of this exercise is to learn NumPy indexing/slicing. It allows to access values of the NumPy array efficiently and without a for loop.\n",
    "\n",
    "1. Create a NumPy array of dimension 1 that contains all integers from 1 to 100 ordered.\n",
    "2. Without using a for loop and using the array created in Q1, create an array that contain all odd integers. The expected output is: `np.array([1,3,...,99])`. _Hint_: it takes one line\n",
    "3. Without using a for loop and using the array created in Q1, create an array that contain all even integers reversed. The expected output is: `np.array([100,98,...,2])`. _Hint_: it takes one line\n",
    "\n",
    "4. Using array of Q1, set the value of every 3 elements of the list (starting with the second) to 0. The expected output is: `np.array([[1,0,3,4,0,...,0,99,100]])`"
   ]
  },
  {
   "cell_type": "markdown",
   "metadata": {},
   "source": [
    "Slicing in Python is a way to extract a portion of a sequence (like a list, tuple, or string) or any iterable object. It allows you to access a contiguous subsequence or a specific set of elements from the original sequence. Slicing is widely used in Python and is a fundamental concept when working with sequences.\n",
    "\n",
    "Here's how slicing works in Python:\n",
    "\n",
    "1. **Syntax**: The general syntax for slicing is `sequence[start:stop:step]`, where:\n",
    "   - `sequence`: The sequence you want to slice (e.g., a list, tuple, string, or NumPy array).\n",
    "   - `start`: The index at which the slicing begins (inclusive).\n",
    "   - `stop`: The index at which the slicing ends (exclusive).\n",
    "   - `step` (optional): The step size or the interval between elements to include in the slice.\n",
    "\n",
    "2. **Start, Stop, and Step**:\n",
    "   - `start`: If not specified, it defaults to 0 (the beginning of the sequence).\n",
    "   - `stop`: If not specified, it defaults to the end of the sequence.\n",
    "   - `step`: If not specified, it defaults to 1 (i.e., every element is included).\n",
    "\n",
    "3. **Indexing**: Slicing uses zero-based indexing, which means the first element has an index of 0, the second element has an index of 1, and so on.\n",
    "\n",
    "4. **Result**: The result of slicing is a new sequence containing the elements from the original sequence as specified by the `start`, `stop`, and `step` parameters.\n",
    "\n",
    "Examples:\n",
    "\n",
    "- `my_list[1:4]`: This slices `my_list` from index 1 (inclusive) to 4 (exclusive), so it includes elements at indices 1, 2, and 3.\n",
    "- `my_string[::2]`: This slices `my_string` with a step of 2, which means it selects every second character from the string.\n",
    "- `my_tuple[:3]`: This slices `my_tuple` from the beginning up to index 3 (exclusive), including elements at indices 0, 1, and 2.\n",
    "- `my_list[::-1]`: This slices `my_list` with a step of -1, which reverses the order of elements in the list.\n",
    "\n",
    "Slicing is a powerful tool for working with sequences in Python, allowing you to efficiently extract and manipulate data without the need for explicit loops."
   ]
  },
  {
   "cell_type": "code",
   "execution_count": 23,
   "metadata": {},
   "outputs": [
    {
     "data": {
      "text/plain": [
       "array([  1,   2,   3,   4,   5,   6,   7,   8,   9,  10,  11,  12,  13,\n",
       "        14,  15,  16,  17,  18,  19,  20,  21,  22,  23,  24,  25,  26,\n",
       "        27,  28,  29,  30,  31,  32,  33,  34,  35,  36,  37,  38,  39,\n",
       "        40,  41,  42,  43,  44,  45,  46,  47,  48,  49,  50,  51,  52,\n",
       "        53,  54,  55,  56,  57,  58,  59,  60,  61,  62,  63,  64,  65,\n",
       "        66,  67,  68,  69,  70,  71,  72,  73,  74,  75,  76,  77,  78,\n",
       "        79,  80,  81,  82,  83,  84,  85,  86,  87,  88,  89,  90,  91,\n",
       "        92,  93,  94,  95,  96,  97,  98,  99, 100])"
      ]
     },
     "execution_count": 23,
     "metadata": {},
     "output_type": "execute_result"
    }
   ],
   "source": [
    "import numpy as np\n",
    "\n",
    "# Q1: Create a NumPy array of integers from 1 to 100\n",
    "arr = np.arange(1, 101)\n",
    "arr"
   ]
  },
  {
   "cell_type": "code",
   "execution_count": 24,
   "metadata": {},
   "outputs": [
    {
     "data": {
      "text/plain": [
       "array([ 1,  3,  5,  7,  9, 11, 13, 15, 17, 19, 21, 23, 25, 27, 29, 31, 33,\n",
       "       35, 37, 39, 41, 43, 45, 47, 49, 51, 53, 55, 57, 59, 61, 63, 65, 67,\n",
       "       69, 71, 73, 75, 77, 79, 81, 83, 85, 87, 89, 91, 93, 95, 97, 99])"
      ]
     },
     "execution_count": 24,
     "metadata": {},
     "output_type": "execute_result"
    }
   ],
   "source": [
    "# Q2: Create an array containing all odd integers\n",
    "odd_arr = arr[::2]\n",
    "odd_arr"
   ]
  },
  {
   "cell_type": "code",
   "execution_count": 25,
   "metadata": {},
   "outputs": [
    {
     "data": {
      "text/plain": [
       "array([  2,   4,   6,   8,  10,  12,  14,  16,  18,  20,  22,  24,  26,\n",
       "        28,  30,  32,  34,  36,  38,  40,  42,  44,  46,  48,  50,  52,\n",
       "        54,  56,  58,  60,  62,  64,  66,  68,  70,  72,  74,  76,  78,\n",
       "        80,  82,  84,  86,  88,  90,  92,  94,  96,  98, 100])"
      ]
     },
     "execution_count": 25,
     "metadata": {},
     "output_type": "execute_result"
    }
   ],
   "source": [
    "# Q2*: Create an array containing all even integers\n",
    "even_arr = arr[1::2]\n",
    "even_arr"
   ]
  },
  {
   "cell_type": "code",
   "execution_count": 26,
   "metadata": {},
   "outputs": [
    {
     "data": {
      "text/plain": [
       "array([100,  98,  96,  94,  92,  90,  88,  86,  84,  82,  80,  78,  76,\n",
       "        74,  72,  70,  68,  66,  64,  62,  60,  58,  56,  54,  52,  50,\n",
       "        48,  46,  44,  42,  40,  38,  36,  34,  32,  30,  28,  26,  24,\n",
       "        22,  20,  18,  16,  14,  12,  10,   8,   6,   4,   2])"
      ]
     },
     "execution_count": 26,
     "metadata": {},
     "output_type": "execute_result"
    }
   ],
   "source": [
    "# Q3: Create an array containing all even integers in reverse order\n",
    "even_arr_reversed = arr[-1::-2]\n",
    "even_arr_reversed"
   ]
  },
  {
   "cell_type": "code",
   "execution_count": 27,
   "metadata": {},
   "outputs": [
    {
     "data": {
      "text/plain": [
       "array([  1,   0,   3,   4,   0,   6,   7,   0,   9,  10,   0,  12,  13,\n",
       "         0,  15,  16,   0,  18,  19,   0,  21,  22,   0,  24,  25,   0,\n",
       "        27,  28,   0,  30,  31,   0,  33,  34,   0,  36,  37,   0,  39,\n",
       "        40,   0,  42,  43,   0,  45,  46,   0,  48,  49,   0,  51,  52,\n",
       "         0,  54,  55,   0,  57,  58,   0,  60,  61,   0,  63,  64,   0,\n",
       "        66,  67,   0,  69,  70,   0,  72,  73,   0,  75,  76,   0,  78,\n",
       "        79,   0,  81,  82,   0,  84,  85,   0,  87,  88,   0,  90,  91,\n",
       "         0,  93,  94,   0,  96,  97,   0,  99, 100])"
      ]
     },
     "execution_count": 27,
     "metadata": {},
     "output_type": "execute_result"
    }
   ],
   "source": [
    "# Q4: Set every 3rd element (starting with the second) to 0\n",
    "arr[1::3] = 0\n",
    "arr"
   ]
  }
 ],
 "metadata": {
  "kernelspec": {
   "display_name": "ex00",
   "language": "python",
   "name": "python3"
  },
  "language_info": {
   "codemirror_mode": {
    "name": "ipython",
    "version": 3
   },
   "file_extension": ".py",
   "mimetype": "text/x-python",
   "name": "python",
   "nbconvert_exporter": "python",
   "pygments_lexer": "ipython3",
   "version": "3.6.9"
  }
 },
 "nbformat": 4,
 "nbformat_minor": 2
}
