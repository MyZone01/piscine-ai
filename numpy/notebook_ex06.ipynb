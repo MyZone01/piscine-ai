{
 "cells": [
  {
   "cell_type": "markdown",
   "metadata": {},
   "source": [
    "# Exercise 6: Broadcasting and Slicing\n",
    "\n",
    "The goal of this exercise is to learn to access values of n-dimensional arrays efficiently.\n",
    "\n",
    "1. Create an 2-dimensional array size 9,9 of 1s. Each value has to be an `int8`.\n",
    "2. Using **slicing**, output this array:\n",
    "\n",
    "   ```python\n",
    "   array([[1, 1, 1, 1, 1, 1, 1, 1, 1],\n",
    "       [1, 0, 0, 0, 0, 0, 0, 0, 1],\n",
    "       [1, 0, 1, 1, 1, 1, 1, 0, 1],\n",
    "       [1, 0, 1, 0, 0, 0, 1, 0, 1],\n",
    "       [1, 0, 1, 0, 1, 0, 1, 0, 1],\n",
    "       [1, 0, 1, 0, 0, 0, 1, 0, 1],\n",
    "       [1, 0, 1, 1, 1, 1, 1, 0, 1],\n",
    "       [1, 0, 0, 0, 0, 0, 0, 0, 1],\n",
    "       [1, 1, 1, 1, 1, 1, 1, 1, 1]], dtype=int8)\n",
    "   ```\n",
    "\n",
    "https://jakevdp.github.io/PythonDataScienceHandbook/ (section: Computation on Arrays: Broadcasting)"
   ]
  },
  {
   "cell_type": "code",
   "execution_count": 10,
   "metadata": {},
   "outputs": [
    {
     "data": {
      "text/plain": [
       "array([[1, 1, 1, 1, 1, 1, 1, 1, 1],\n",
       "       [1, 0, 0, 0, 0, 0, 0, 0, 1],\n",
       "       [1, 0, 1, 1, 1, 1, 1, 0, 1],\n",
       "       [1, 0, 1, 0, 0, 0, 1, 0, 1],\n",
       "       [1, 0, 1, 0, 1, 0, 1, 0, 1],\n",
       "       [1, 0, 1, 0, 0, 0, 1, 0, 1],\n",
       "       [1, 0, 1, 1, 1, 1, 1, 0, 1],\n",
       "       [1, 0, 0, 0, 0, 0, 0, 0, 1],\n",
       "       [1, 1, 1, 1, 1, 1, 1, 1, 1]], dtype=int8)"
      ]
     },
     "execution_count": 10,
     "metadata": {},
     "output_type": "execute_result"
    }
   ],
   "source": [
    "import numpy as np\n",
    "\n",
    "# Create a 2D array of 1s with a size of 9x9 and dtype int8\n",
    "array = np.ones((9, 9), dtype=np.int8)\n",
    "\n",
    "# Use slicing to modify the interior elements as specified\n",
    "array[1:8, 1:8] = 0\n",
    "array[2:7, 2:7] = 1\n",
    "array[3:6, 3:6] = 0\n",
    "array[4, 4] = 1\n",
    "\n",
    "# Print the resulting array\n",
    "array\n"
   ]
  }
 ],
 "metadata": {
  "kernelspec": {
   "display_name": "ex00",
   "language": "python",
   "name": "python3"
  },
  "language_info": {
   "codemirror_mode": {
    "name": "ipython",
    "version": 3
   },
   "file_extension": ".py",
   "mimetype": "text/x-python",
   "name": "python",
   "nbconvert_exporter": "python",
   "pygments_lexer": "ipython3",
   "version": "3.6.9"
  }
 },
 "nbformat": 4,
 "nbformat_minor": 2
}
