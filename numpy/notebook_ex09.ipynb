{
 "cells": [
  {
   "cell_type": "markdown",
   "metadata": {},
   "source": [
    "# Exercise 9: Football tournament\n",
    "\n",
    "The goal of this exercise is to learn to use permutations, complex\n",
    "\n",
    "A Football tournament is organized in your city. There are 10 teams and the director of the tournaments wants you to create a first round as exciting as possible. To do so, you are allowed to choose the pairs. As a former data scientist, you implemented a model based on teams' current season performance. This models predicts the score difference between two teams. You used this algorithm to predict the score difference for every possible pair.\n",
    "The matrix returned is a 2-dimensional array that contains in (i,j) the score difference between team i and j. The matrix is in [model_forecasts.txt](data/model_forecasts.txt).\n",
    "\n",
    "Using this output, what are the pairs that will give the most interesting matches ?\n",
    "\n",
    "If a team wins 7-1 the match is obviously less exciting than a match where the winner wins 2-1.\n",
    "The criteria that corresponds to **the pairs that will give the most interesting matches** is **the pairs that minimize the sum of squared differences**\n",
    "\n",
    "The expected output is:\n",
    "\n",
    "```console\n",
    " [[m1_t1 m2_t1 m3_t1 m4_t1 m5_t1]\n",
    "  [m1_t2 m2_t2 m3_t2 m4_t2 m5_t2]]\n",
    "```\n",
    "\n",
    "- m1_t1 stands for match1_team1\n",
    "- m1_t1 plays against m1_t2 ...\n",
    "\n",
    "**Usage of for loop is not allowed, you may need to use the library** `itertools` **to create permutations**\n",
    "\n",
    "https://docs.python.org/3.9/library/itertools.html\n"
   ]
  },
  {
   "cell_type": "code",
   "execution_count": null,
   "metadata": {},
   "outputs": [],
   "source": []
  }
 ],
 "metadata": {
  "language_info": {
   "name": "python"
  }
 },
 "nbformat": 4,
 "nbformat_minor": 2
}
