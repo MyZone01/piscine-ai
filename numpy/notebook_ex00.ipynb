{
 "cells": [
  {
   "cell_type": "markdown",
   "metadata": {},
   "source": [
    "To achieve the tasks you've described, you can follow these steps:\n",
    "\n",
    "1. Create a virtual environment named \"ex00\" with Python 3.8:\n",
    "   ```\n",
    "   python3 -m venv ex00\n",
    "   ```\n",
    "\n",
    "2. Activate the virtual environment (Linux/Mac):\n",
    "   ```\n",
    "   source ex00/bin/activate\n",
    "   ```\n",
    "\n",
    "   On Windows:\n",
    "   ```\n",
    "   .\\ex00\\Scripts\\activate\n",
    "   ```\n",
    "\n",
    "3. Install the required packages (numpy, jupyter) within the virtual environment:\n",
    "   ```\n",
    "   pip3 install -U pip\n",
    "   pip3 install -U setuptools\n",
    "   pip3 install numpy jupyter\n",
    "   ```\n",
    "\n",
    "4. Create a `requirements.txt` file containing the installed packages:\n",
    "   ```\n",
    "   pip3 freeze > requirements.txt\n",
    "   ```\n",
    "\n",
    "5. Launch JupyterLab on port 8891 and create a notebook named \"Notebook_ex00\":\n",
    "   ```\n",
    "   jupyter notebook --port 8891\n",
    "   ```\n",
    "\n",
    "6. In JupyterLab, create a new notebook and add the desired text in the cells as you described.\n",
    "\n",
    "Here's how you can structure the notebook:\n",
    "\n",
    "Cell 1 (Markdown cell):\n",
    "```markdown\n",
    "# H1 TITLE\n",
    "## H2 TITLE\n",
    "```\n",
    "\n",
    "Cell 2 (Code cell):\n",
    "```python\n",
    "print(\"Buy the dip ?\")\n",
    "```\n",
    "\n",
    "Remember to save your notebook periodically. You can use the JupyterLab interface to do so."
   ]
  },
  {
   "cell_type": "markdown",
   "metadata": {},
   "source": [
    "# H1 TITLE\n",
    "## H2 TITLE"
   ]
  },
  {
   "cell_type": "code",
   "execution_count": 1,
   "metadata": {},
   "outputs": [
    {
     "name": "stdout",
     "output_type": "stream",
     "text": [
      "Buy the dip ?\n"
     ]
    }
   ],
   "source": [
    "print(\"Buy the dip ?\")"
   ]
  }
 ],
 "metadata": {
  "kernelspec": {
   "display_name": "ex00",
   "language": "python",
   "name": "python3"
  },
  "language_info": {
   "codemirror_mode": {
    "name": "ipython",
    "version": 3
   },
   "file_extension": ".py",
   "mimetype": "text/x-python",
   "name": "python",
   "nbconvert_exporter": "python",
   "pygments_lexer": "ipython3",
   "version": "3.6.9"
  }
 },
 "nbformat": 4,
 "nbformat_minor": 2
}
